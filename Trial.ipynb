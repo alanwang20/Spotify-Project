{
 "cells": [
  {
   "cell_type": "markdown",
   "id": "976c882d",
   "metadata": {},
   "source": [
    "# Wrapper\n"
   ]
  },
  {
   "cell_type": "code",
   "execution_count": 2,
   "id": "db5229a2",
   "metadata": {},
   "outputs": [],
   "source": [
    "#!pip install spotipy\n",
    "import spotipy\n",
    "from spotipy.oauth2 import SpotifyClientCredentials"
   ]
  },
  {
   "cell_type": "code",
   "execution_count": 3,
   "id": "2383c7c4",
   "metadata": {},
   "outputs": [],
   "source": [
    "# Replace these with your own client ID and client secret\n",
    "client_id = '29b56bdd42d34c5aa2234fc54983a697'\n",
    "client_secret = 'ffa0e4369dd841c7a2f877e19254d990'\n",
    "\n",
    "# Authenticate with Spotify API\n",
    "client_credentials_manager = SpotifyClientCredentials(client_id=client_id, client_secret=client_secret)\n",
    "sp = spotipy.Spotify(client_credentials_manager=client_credentials_manager)"
   ]
  },
  {
   "cell_type": "code",
   "execution_count": 13,
   "id": "ef6f4b5c",
   "metadata": {},
   "outputs": [
    {
     "name": "stdout",
     "output_type": "stream",
     "text": [
      "We Will Rock You by Queen\n"
     ]
    }
   ],
   "source": [
    "# Search for a track\n",
    "track_results = sp.search(q='We Will Rock You', type='track', limit = 1)\n",
    "# Print the track name and artist\n",
    "i = 0\n",
    "for track in track_results['tracks']['items']:\n",
    "    print(f\"{track['name']} by {track['artists'][0]['name']}\")\n"
   ]
  },
  {
   "cell_type": "code",
   "execution_count": 14,
   "id": "2325e051",
   "metadata": {},
   "outputs": [
    {
     "name": "stdout",
     "output_type": "stream",
     "text": [
      "{'tracks': {'href': 'https://api.spotify.com/v1/search?query=We+Will+Rock+You&type=track&offset=0&limit=1', 'items': [{'album': {'album_type': 'compilation', 'artists': [{'external_urls': {'spotify': 'https://open.spotify.com/artist/1dfeR4HaWDbWqFHLkxsg1d'}, 'href': 'https://api.spotify.com/v1/artists/1dfeR4HaWDbWqFHLkxsg1d', 'id': '1dfeR4HaWDbWqFHLkxsg1d', 'name': 'Queen', 'type': 'artist', 'uri': 'spotify:artist:1dfeR4HaWDbWqFHLkxsg1d'}], 'available_markets': ['CA', 'US'], 'external_urls': {'spotify': 'https://open.spotify.com/album/7C2DKB8C12LqxMkfJRwTo9'}, 'href': 'https://api.spotify.com/v1/albums/7C2DKB8C12LqxMkfJRwTo9', 'id': '7C2DKB8C12LqxMkfJRwTo9', 'images': [{'height': 640, 'url': 'https://i.scdn.co/image/ab67616d0000b2735a7602f0e508660b2ba40f8c', 'width': 640}, {'height': 300, 'url': 'https://i.scdn.co/image/ab67616d00001e025a7602f0e508660b2ba40f8c', 'width': 300}, {'height': 64, 'url': 'https://i.scdn.co/image/ab67616d000048515a7602f0e508660b2ba40f8c', 'width': 64}], 'name': 'Stone Cold Classics', 'release_date': '2006-01-01', 'release_date_precision': 'day', 'total_tracks': 14, 'type': 'album', 'uri': 'spotify:album:7C2DKB8C12LqxMkfJRwTo9'}, 'artists': [{'external_urls': {'spotify': 'https://open.spotify.com/artist/1dfeR4HaWDbWqFHLkxsg1d'}, 'href': 'https://api.spotify.com/v1/artists/1dfeR4HaWDbWqFHLkxsg1d', 'id': '1dfeR4HaWDbWqFHLkxsg1d', 'name': 'Queen', 'type': 'artist', 'uri': 'spotify:artist:1dfeR4HaWDbWqFHLkxsg1d'}], 'available_markets': ['CA', 'US'], 'disc_number': 1, 'duration_ms': 121960, 'explicit': False, 'external_ids': {'isrc': 'GBCEE7700017'}, 'external_urls': {'spotify': 'https://open.spotify.com/track/3bCjss1Y0kPPaSgd9cb89K'}, 'href': 'https://api.spotify.com/v1/tracks/3bCjss1Y0kPPaSgd9cb89K', 'id': '3bCjss1Y0kPPaSgd9cb89K', 'is_local': False, 'name': 'We Will Rock You', 'popularity': 53, 'preview_url': None, 'track_number': 6, 'type': 'track', 'uri': 'spotify:track:3bCjss1Y0kPPaSgd9cb89K'}], 'limit': 1, 'next': 'https://api.spotify.com/v1/search?query=We+Will+Rock+You&type=track&offset=1&limit=1', 'offset': 0, 'previous': None, 'total': 807}}\n"
     ]
    }
   ],
   "source": [
    "print(track_results)"
   ]
  },
  {
   "cell_type": "markdown",
   "id": "204424fa",
   "metadata": {},
   "source": [
    "#  Non - Wrapper\n",
    "## API Setup"
   ]
  },
  {
   "cell_type": "code",
   "execution_count": 18,
   "id": "bef433d7",
   "metadata": {},
   "outputs": [],
   "source": [
    "import base64\n",
    "import requests\n",
    "\n",
    "# Spotify API credentials\n",
    "client_id = '29b56bdd42d34c5aa2234fc54983a697'\n",
    "client_secret = 'ffa0e4369dd841c7a2f877e19254d990'\n",
    "\n",
    "# Base64 encode the client ID and client secret\n",
    "client_creds = f\"{client_id}:{client_secret}\"\n",
    "client_creds_b64 = base64.b64encode(client_creds.encode())\n",
    "\n",
    "# Spotify API endpoint for obtaining access token\n",
    "token_url = 'https://accounts.spotify.com/api/token'\n",
    "\n",
    "# Request body for obtaining access token\n",
    "token_data = {\n",
    "    'grant_type': 'client_credentials'\n",
    "}\n",
    "\n",
    "# Request headers including authorization header\n",
    "token_headers = {\n",
    "    'Authorization': f'Basic {client_creds_b64.decode()}'\n",
    "}\n",
    "\n",
    "# Send a POST request to the token endpoint to obtain access token\n",
    "token_response = requests.post(token_url, data=token_data, headers=token_headers)\n",
    "\n",
    "# Check if the request was successful (status code 200)\n",
    "if token_response.status_code in range(200, 299):\n",
    "    # Extract the access token from the response\n",
    "    access_token = token_response.json()['access_token']\n",
    "    # Create headers including the access token for further requests to the Spotify API\n",
    "    headers = {\n",
    "        'Authorization': f'Bearer {access_token}'\n",
    "    }\n",
    "else:\n",
    "    print(\"Failed to obtain access token\")\n"
   ]
  },
  {
   "cell_type": "markdown",
   "id": "56d7de9e",
   "metadata": {},
   "source": [
    "## Search for a Track"
   ]
  },
  {
   "cell_type": "code",
   "execution_count": 19,
   "id": "a06a24b1",
   "metadata": {},
   "outputs": [
    {
     "name": "stdout",
     "output_type": "stream",
     "text": [
      "We Will Rock You by Queen\n",
      "We Will Rock You - Remastered 2011 by Queen\n",
      "One, Two Step (feat. Missy Elliott) by Ciara\n",
      "We Are The Champions by Queen\n",
      "We Will Rock You - 2020 Remaster by Nickelback\n",
      "We Will Rock You - Movie Mix by Queen\n",
      "We Will Rock You (feat. Maria Brink, Lzzy Hale and Taylor Momsen) by In This Moment\n",
      "I Want It All by Queen\n",
      "We Will Rock You by why mona\n",
      "Toad Sings We Will Rock You by Toad\n",
      "We Will Rock You by Nickelback\n",
      "We Will Rock You - Remastered 2011 by Queen\n",
      "We Will Rock You - Remastered by Queen\n",
      "We Will Rock You by Rockabye Baby!\n",
      "We Will Rock You - Remastered 2011 by Queen\n",
      "We Will Rock You - Kids Version by The Countdown Kids\n",
      "Crazy Little Thing Called Love by Queen\n",
      "We Will Rock You by Halocene\n",
      "We Will Rock You (Fast) - BBC Session / October 28th 1977, Maida Vale 4 Studio by Queen\n",
      "Bohemian Rhapsody by Queen\n"
     ]
    }
   ],
   "source": [
    "# Example: search for a track\n",
    "search_url = 'https://api.spotify.com/v1/search'\n",
    "search_params = {\n",
    "    'q': 'We Will Rock You',\n",
    "    'type': 'track'\n",
    "}\n",
    "search_response = requests.get(search_url, headers=headers, params=search_params)\n",
    "\n",
    "# Check if the search request was successful (status code 200)\n",
    "if search_response.status_code in range(200, 299):\n",
    "    track_results = search_response.json()\n",
    "    # Print the track name and artist\n",
    "    for track in track_results['tracks']['items']:\n",
    "        print(f\"{track['name']} by {track['artists'][0]['name']}\")\n",
    "else:\n",
    "    print(\"Failed to perform search request\")\n"
   ]
  },
  {
   "cell_type": "markdown",
   "id": "76e1795b",
   "metadata": {},
   "source": [
    "## Get Song Data From Playlist\n"
   ]
  },
  {
   "cell_type": "code",
   "execution_count": 23,
   "id": "e956f268",
   "metadata": {},
   "outputs": [
    {
     "ename": "TypeError",
     "evalue": "string indices must be integers",
     "output_type": "error",
     "traceback": [
      "\u001b[1;31m---------------------------------------------------------------------------\u001b[0m",
      "\u001b[1;31mTypeError\u001b[0m                                 Traceback (most recent call last)",
      "Input \u001b[1;32mIn [23]\u001b[0m, in \u001b[0;36m<cell line: 9>\u001b[1;34m()\u001b[0m\n\u001b[0;32m     12\u001b[0m     tracks \u001b[38;5;241m=\u001b[39m playlist_data[\u001b[38;5;124m'\u001b[39m\u001b[38;5;124mtracks\u001b[39m\u001b[38;5;124m'\u001b[39m]\u001b[38;5;66;03m#['items']\u001b[39;00m\n\u001b[0;32m     13\u001b[0m     \u001b[38;5;28;01mfor\u001b[39;00m track \u001b[38;5;129;01min\u001b[39;00m tracks:\n\u001b[1;32m---> 14\u001b[0m         track_info \u001b[38;5;241m=\u001b[39m \u001b[43mtrack\u001b[49m\u001b[43m[\u001b[49m\u001b[38;5;124;43m'\u001b[39;49m\u001b[38;5;124;43mtrack\u001b[39;49m\u001b[38;5;124;43m'\u001b[39;49m\u001b[43m]\u001b[49m\n\u001b[0;32m     15\u001b[0m         \u001b[38;5;28mprint\u001b[39m(\u001b[38;5;124mf\u001b[39m\u001b[38;5;124m\"\u001b[39m\u001b[38;5;124mTrack: \u001b[39m\u001b[38;5;132;01m{\u001b[39;00mtrack_info[\u001b[38;5;124m'\u001b[39m\u001b[38;5;124mname\u001b[39m\u001b[38;5;124m'\u001b[39m]\u001b[38;5;132;01m}\u001b[39;00m\u001b[38;5;124m, Artist(s): \u001b[39m\u001b[38;5;132;01m{\u001b[39;00m[artist[\u001b[38;5;124m'\u001b[39m\u001b[38;5;124mname\u001b[39m\u001b[38;5;124m'\u001b[39m] \u001b[38;5;28;01mfor\u001b[39;00m artist \u001b[38;5;129;01min\u001b[39;00m track_info[\u001b[38;5;124m'\u001b[39m\u001b[38;5;124martists\u001b[39m\u001b[38;5;124m'\u001b[39m]]\u001b[38;5;132;01m}\u001b[39;00m\u001b[38;5;124m, Album: \u001b[39m\u001b[38;5;132;01m{\u001b[39;00mtrack_info[\u001b[38;5;124m'\u001b[39m\u001b[38;5;124malbum\u001b[39m\u001b[38;5;124m'\u001b[39m][\u001b[38;5;124m'\u001b[39m\u001b[38;5;124mname\u001b[39m\u001b[38;5;124m'\u001b[39m]\u001b[38;5;132;01m}\u001b[39;00m\u001b[38;5;124m\"\u001b[39m)\n\u001b[0;32m     16\u001b[0m \u001b[38;5;28;01melse\u001b[39;00m:\n",
      "\u001b[1;31mTypeError\u001b[0m: string indices must be integers"
     ]
    }
   ],
   "source": [
    "# Playlist ID\n",
    "playlist_id = '56FmpBJdkCm2uJc82RaUJC'  # Extracted from the URL\n",
    "\n",
    "# Get playlist information\n",
    "playlist_url = f'https://api.spotify.com/v1/playlists/{playlist_id}'\n",
    "playlist_response = requests.get(playlist_url, headers=headers)\n",
    "\n",
    "# Check if the playlist request was successful (status code 200)\n",
    "if playlist_response.status_code in range(200, 299):\n",
    "    playlist_data = playlist_response.json()\n",
    "    # Extract track information from the playlist data\n",
    "    tracks = playlist_data['tracks']['items']\n",
    "    for track in tracks:\n",
    "        track_info = track['track']\n",
    "        print(f\"Track: {track_info['name']}, Artist(s): {[artist['name'] for artist in track_info['artists']]}, Album: {track_info['album']['name']}\")\n",
    "else:\n",
    "    print(\"Failed to fetch playlist information\")"
   ]
  },
  {
   "cell_type": "code",
   "execution_count": 30,
   "id": "0fad7279",
   "metadata": {},
   "outputs": [
    {
     "name": "stdout",
     "output_type": "stream",
     "text": [
      "{'href': 'https://api.spotify.com/v1/playlists/56FmpBJdkCm2uJc82RaUJC/tracks?offset=0&limit=100', 'items': [{'added_at': '2024-03-15T03:06:54Z', 'added_by': {'external_urls': {'spotify': 'https://open.spotify.com/user/12151623107'}, 'href': 'https://api.spotify.com/v1/users/12151623107', 'id': '12151623107', 'type': 'user', 'uri': 'spotify:user:12151623107'}, 'is_local': False, 'primary_color': None, 'track': {'album': {'album_type': 'album', 'artists': [{'external_urls': {'spotify': 'https://open.spotify.com/artist/7FY5V3XMwlNBPitEjXowHQ'}, 'href': 'https://api.spotify.com/v1/artists/7FY5V3XMwlNBPitEjXowHQ', 'id': '7FY5V3XMwlNBPitEjXowHQ', 'name': 'Darius Rucker', 'type': 'artist', 'uri': 'spotify:artist:7FY5V3XMwlNBPitEjXowHQ'}], 'available_markets': ['AR', 'AU', 'AT', 'BE', 'BO', 'BR', 'BG', 'CA', 'CL', 'CO', 'CR', 'CY', 'CZ', 'DK', 'DO', 'DE', 'EC', 'EE', 'SV', 'FI', 'FR', 'GR', 'GT', 'HN', 'HK', 'HU', 'IS', 'IE', 'IT', 'LV', 'LT', 'LU', 'MY', 'MT', 'MX', 'NL', 'NZ', 'NI', 'NO', 'PA', 'PY', 'PE', 'PH', 'PL', 'PT', 'SG', 'SK', 'ES', 'SE', 'CH', 'TW', 'TR', 'UY', 'US', 'GB', 'AD', 'LI', 'MC', 'ID', 'JP', 'TH', 'VN', 'RO', 'IL', 'ZA', 'SA', 'AE', 'BH', 'QA', 'OM', 'KW', 'EG', 'MA', 'DZ', 'TN', 'LB', 'JO', 'PS', 'IN', 'BY', 'KZ', 'MD', 'UA', 'AL', 'BA', 'HR', 'ME', 'MK', 'RS', 'SI', 'KR', 'BD', 'PK', 'LK', 'GH', 'KE', 'NG', 'TZ', 'UG', 'AG', 'AM', 'BS', 'BB', 'BZ', 'BT', 'BW', 'BF', 'CV', 'CW', 'DM', 'FJ', 'GM', 'GE', 'GD', 'GW', 'GY', 'HT', 'JM', 'KI', 'LS', 'LR', 'MW', 'MV', 'ML', 'MH', 'FM', 'NA', 'NR', 'NE', 'PW', 'PG', 'WS', 'SM', 'ST', 'SN', 'SC', 'SL', 'SB', 'KN', 'LC', 'VC', 'SR', 'TL', 'TO', 'TT', 'TV', 'VU', 'AZ', 'BN', 'BI', 'KH', 'CM', 'TD', 'KM', 'GQ', 'SZ', 'GA', 'GN', 'KG', 'LA', 'MO', 'MR', 'MN', 'NP', 'RW', 'TG', 'UZ', 'ZW', 'BJ', 'MG', 'MU', 'MZ', 'AO', 'CI', 'DJ', 'ZM', 'CD', 'CG', 'IQ', 'LY', 'TJ', 'VE', 'ET', 'XK'], 'external_urls': {'spotify': 'https://open.spotify.com/album/6cowf7fdb5dgKoglTekOK8'}, 'href': 'https://api.spotify.com/v1/albums/6cowf7fdb5dgKoglTekOK8', 'id': '6cowf7fdb5dgKoglTekOK8', 'images': [{'height': 640, 'url': 'https://i.scdn.co/image/ab67616d0000b2733c814f8afa852904e9db8a9f', 'width': 640}, {'height': 300, 'url': 'https://i.scdn.co/image/ab67616d00001e023c814f8afa852904e9db8a9f', 'width': 300}, {'height': 64, 'url': 'https://i.scdn.co/image/ab67616d000048513c814f8afa852904e9db8a9f', 'width': 64}], 'name': 'True Believers', 'release_date': '2013-01-01', 'release_date_precision': 'day', 'total_tracks': 12, 'type': 'album', 'uri': 'spotify:album:6cowf7fdb5dgKoglTekOK8'}, 'artists': [{'external_urls': {'spotify': 'https://open.spotify.com/artist/7FY5V3XMwlNBPitEjXowHQ'}, 'href': 'https://api.spotify.com/v1/artists/7FY5V3XMwlNBPitEjXowHQ', 'id': '7FY5V3XMwlNBPitEjXowHQ', 'name': 'Darius Rucker', 'type': 'artist', 'uri': 'spotify:artist:7FY5V3XMwlNBPitEjXowHQ'}], 'available_markets': ['AR', 'AU', 'AT', 'BE', 'BO', 'BR', 'BG', 'CA', 'CL', 'CO', 'CR', 'CY', 'CZ', 'DK', 'DO', 'DE', 'EC', 'EE', 'SV', 'FI', 'FR', 'GR', 'GT', 'HN', 'HK', 'HU', 'IS', 'IE', 'IT', 'LV', 'LT', 'LU', 'MY', 'MT', 'MX', 'NL', 'NZ', 'NI', 'NO', 'PA', 'PY', 'PE', 'PH', 'PL', 'PT', 'SG', 'SK', 'ES', 'SE', 'CH', 'TW', 'TR', 'UY', 'US', 'GB', 'AD', 'LI', 'MC', 'ID', 'JP', 'TH', 'VN', 'RO', 'IL', 'ZA', 'SA', 'AE', 'BH', 'QA', 'OM', 'KW', 'EG', 'MA', 'DZ', 'TN', 'LB', 'JO', 'PS', 'IN', 'BY', 'KZ', 'MD', 'UA', 'AL', 'BA', 'HR', 'ME', 'MK', 'RS', 'SI', 'KR', 'BD', 'PK', 'LK', 'GH', 'KE', 'NG', 'TZ', 'UG', 'AG', 'AM', 'BS', 'BB', 'BZ', 'BT', 'BW', 'BF', 'CV', 'CW', 'DM', 'FJ', 'GM', 'GE', 'GD', 'GW', 'GY', 'HT', 'JM', 'KI', 'LS', 'LR', 'MW', 'MV', 'ML', 'MH', 'FM', 'NA', 'NR', 'NE', 'PW', 'PG', 'WS', 'SM', 'ST', 'SN', 'SC', 'SL', 'SB', 'KN', 'LC', 'VC', 'SR', 'TL', 'TO', 'TT', 'TV', 'VU', 'AZ', 'BN', 'BI', 'KH', 'CM', 'TD', 'KM', 'GQ', 'SZ', 'GA', 'GN', 'KG', 'LA', 'MO', 'MR', 'MN', 'NP', 'RW', 'TG', 'UZ', 'ZW', 'BJ', 'MG', 'MU', 'MZ', 'AO', 'CI', 'DJ', 'ZM', 'CD', 'CG', 'IQ', 'LY', 'TJ', 'VE', 'ET', 'XK'], 'disc_number': 1, 'duration_ms': 298373, 'episode': False, 'explicit': False, 'external_ids': {'isrc': 'USCN11200248'}, 'external_urls': {'spotify': 'https://open.spotify.com/track/3xdjjKMcMOFgo1eQrfbogM'}, 'href': 'https://api.spotify.com/v1/tracks/3xdjjKMcMOFgo1eQrfbogM', 'id': '3xdjjKMcMOFgo1eQrfbogM', 'is_local': False, 'name': 'Wagon Wheel', 'popularity': 80, 'preview_url': None, 'track': True, 'track_number': 3, 'type': 'track', 'uri': 'spotify:track:3xdjjKMcMOFgo1eQrfbogM'}, 'video_thumbnail': {'url': None}}, {'added_at': '2024-03-15T03:29:03Z', 'added_by': {'external_urls': {'spotify': 'https://open.spotify.com/user/12151623107'}, 'href': 'https://api.spotify.com/v1/users/12151623107', 'id': '12151623107', 'type': 'user', 'uri': 'spotify:user:12151623107'}, 'is_local': False, 'primary_color': None, 'track': {'album': {'album_type': 'single', 'artists': [{'external_urls': {'spotify': 'https://open.spotify.com/artist/0pt7PX4Hftlg8mV1ySU84Q'}, 'href': 'https://api.spotify.com/v1/artists/0pt7PX4Hftlg8mV1ySU84Q', 'id': '0pt7PX4Hftlg8mV1ySU84Q', 'name': 'CVBZ', 'type': 'artist', 'uri': 'spotify:artist:0pt7PX4Hftlg8mV1ySU84Q'}], 'available_markets': ['AR', 'AU', 'AT', 'BE', 'BO', 'BR', 'BG', 'CA', 'CL', 'CO', 'CR', 'CY', 'CZ', 'DK', 'DO', 'DE', 'EC', 'EE', 'SV', 'FI', 'FR', 'GR', 'GT', 'HN', 'HK', 'HU', 'IS', 'IE', 'IT', 'LV', 'LT', 'LU', 'MY', 'MT', 'MX', 'NL', 'NZ', 'NI', 'NO', 'PA', 'PY', 'PE', 'PH', 'PL', 'PT', 'SG', 'SK', 'ES', 'SE', 'CH', 'TW', 'TR', 'UY', 'US', 'GB', 'AD', 'LI', 'MC', 'ID', 'JP', 'TH', 'VN', 'RO', 'IL', 'ZA', 'SA', 'AE', 'BH', 'QA', 'OM', 'KW', 'EG', 'MA', 'DZ', 'TN', 'LB', 'JO', 'PS', 'IN', 'BY', 'KZ', 'MD', 'UA', 'AL', 'BA', 'HR', 'ME', 'MK', 'RS', 'SI', 'KR', 'BD', 'PK', 'LK', 'GH', 'KE', 'NG', 'TZ', 'UG', 'AG', 'AM', 'BS', 'BB', 'BZ', 'BT', 'BW', 'BF', 'CV', 'CW', 'DM', 'FJ', 'GM', 'GE', 'GD', 'GW', 'GY', 'HT', 'JM', 'KI', 'LS', 'LR', 'MW', 'MV', 'ML', 'MH', 'FM', 'NA', 'NR', 'NE', 'PW', 'PG', 'WS', 'SM', 'ST', 'SN', 'SC', 'SL', 'SB', 'KN', 'LC', 'VC', 'SR', 'TL', 'TO', 'TT', 'TV', 'VU', 'AZ', 'BN', 'BI', 'KH', 'CM', 'TD', 'KM', 'GQ', 'SZ', 'GA', 'GN', 'KG', 'LA', 'MO', 'MR', 'MN', 'NP', 'RW', 'TG', 'UZ', 'ZW', 'BJ', 'MG', 'MU', 'MZ', 'AO', 'CI', 'DJ', 'ZM', 'CD', 'CG', 'IQ', 'LY', 'TJ', 'VE', 'ET', 'XK'], 'external_urls': {'spotify': 'https://open.spotify.com/album/1WVsXJmP8Nj6yYR3rWDrxD'}, 'href': 'https://api.spotify.com/v1/albums/1WVsXJmP8Nj6yYR3rWDrxD', 'id': '1WVsXJmP8Nj6yYR3rWDrxD', 'images': [{'height': 640, 'url': 'https://i.scdn.co/image/ab67616d0000b2734de7a511f55fb12e53c09a95', 'width': 640}, {'height': 300, 'url': 'https://i.scdn.co/image/ab67616d00001e024de7a511f55fb12e53c09a95', 'width': 300}, {'height': 64, 'url': 'https://i.scdn.co/image/ab67616d000048514de7a511f55fb12e53c09a95', 'width': 64}], 'name': 'Time Is Mercy', 'release_date': '2023-06-09', 'release_date_precision': 'day', 'total_tracks': 1, 'type': 'album', 'uri': 'spotify:album:1WVsXJmP8Nj6yYR3rWDrxD'}, 'artists': [{'external_urls': {'spotify': 'https://open.spotify.com/artist/0pt7PX4Hftlg8mV1ySU84Q'}, 'href': 'https://api.spotify.com/v1/artists/0pt7PX4Hftlg8mV1ySU84Q', 'id': '0pt7PX4Hftlg8mV1ySU84Q', 'name': 'CVBZ', 'type': 'artist', 'uri': 'spotify:artist:0pt7PX4Hftlg8mV1ySU84Q'}], 'available_markets': ['AR', 'AU', 'AT', 'BE', 'BO', 'BR', 'BG', 'CA', 'CL', 'CO', 'CR', 'CY', 'CZ', 'DK', 'DO', 'DE', 'EC', 'EE', 'SV', 'FI', 'FR', 'GR', 'GT', 'HN', 'HK', 'HU', 'IS', 'IE', 'IT', 'LV', 'LT', 'LU', 'MY', 'MT', 'MX', 'NL', 'NZ', 'NI', 'NO', 'PA', 'PY', 'PE', 'PH', 'PL', 'PT', 'SG', 'SK', 'ES', 'SE', 'CH', 'TW', 'TR', 'UY', 'US', 'GB', 'AD', 'LI', 'MC', 'ID', 'JP', 'TH', 'VN', 'RO', 'IL', 'ZA', 'SA', 'AE', 'BH', 'QA', 'OM', 'KW', 'EG', 'MA', 'DZ', 'TN', 'LB', 'JO', 'PS', 'IN', 'BY', 'KZ', 'MD', 'UA', 'AL', 'BA', 'HR', 'ME', 'MK', 'RS', 'SI', 'KR', 'BD', 'PK', 'LK', 'GH', 'KE', 'NG', 'TZ', 'UG', 'AG', 'AM', 'BS', 'BB', 'BZ', 'BT', 'BW', 'BF', 'CV', 'CW', 'DM', 'FJ', 'GM', 'GE', 'GD', 'GW', 'GY', 'HT', 'JM', 'KI', 'LS', 'LR', 'MW', 'MV', 'ML', 'MH', 'FM', 'NA', 'NR', 'NE', 'PW', 'PG', 'WS', 'SM', 'ST', 'SN', 'SC', 'SL', 'SB', 'KN', 'LC', 'VC', 'SR', 'TL', 'TO', 'TT', 'TV', 'VU', 'AZ', 'BN', 'BI', 'KH', 'CM', 'TD', 'KM', 'GQ', 'SZ', 'GA', 'GN', 'KG', 'LA', 'MO', 'MR', 'MN', 'NP', 'RW', 'TG', 'UZ', 'ZW', 'BJ', 'MG', 'MU', 'MZ', 'AO', 'CI', 'DJ', 'ZM', 'CD', 'CG', 'IQ', 'LY', 'TJ', 'VE', 'ET', 'XK'], 'disc_number': 1, 'duration_ms': 192000, 'episode': False, 'explicit': False, 'external_ids': {'isrc': 'AUMGB2300394'}, 'external_urls': {'spotify': 'https://open.spotify.com/track/67VgkaUnbQHO8L1qenbEDo'}, 'href': 'https://api.spotify.com/v1/tracks/67VgkaUnbQHO8L1qenbEDo', 'id': '67VgkaUnbQHO8L1qenbEDo', 'is_local': False, 'name': 'Time Is Mercy', 'popularity': 33, 'preview_url': 'https://p.scdn.co/mp3-preview/50fab48f135929a8476246ab9d396caff9666a00?cid=29b56bdd42d34c5aa2234fc54983a697', 'track': True, 'track_number': 1, 'type': 'track', 'uri': 'spotify:track:67VgkaUnbQHO8L1qenbEDo'}, 'video_thumbnail': {'url': None}}], 'limit': 100, 'next': None, 'offset': 0, 'previous': None, 'total': 2}\n"
     ]
    }
   ],
   "source": [
    "# Playlist ID\n",
    "playlist_id = '56FmpBJdkCm2uJc82RaUJC'  # Extracted from the URL\n",
    "\n",
    "# Get playlist information\n",
    "playlist_url = f'https://api.spotify.com/v1/playlists/{playlist_id}'\n",
    "playlist_response = requests.get(playlist_url, headers=headers)\n",
    "\n",
    "print(playlist_response.json()['tracks'])"
   ]
  },
  {
   "cell_type": "code",
   "execution_count": null,
   "id": "faacdb04",
   "metadata": {},
   "outputs": [],
   "source": []
  }
 ],
 "metadata": {
  "kernelspec": {
   "display_name": "Python 3 (ipykernel)",
   "language": "python",
   "name": "python3"
  },
  "language_info": {
   "codemirror_mode": {
    "name": "ipython",
    "version": 3
   },
   "file_extension": ".py",
   "mimetype": "text/x-python",
   "name": "python",
   "nbconvert_exporter": "python",
   "pygments_lexer": "ipython3",
   "version": "3.9.12"
  }
 },
 "nbformat": 4,
 "nbformat_minor": 5
}
